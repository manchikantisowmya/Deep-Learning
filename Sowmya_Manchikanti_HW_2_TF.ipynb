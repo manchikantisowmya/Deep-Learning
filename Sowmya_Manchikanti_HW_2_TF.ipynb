{
 "cells": [
  {
   "cell_type": "code",
   "execution_count": 1,
   "id": "e10e8e0b-0342-423f-b782-8c66cae05d01",
   "metadata": {},
   "outputs": [],
   "source": [
    "import os\n",
    "import numpy as np\n",
    "import matplotlib.pyplot as plt\n",
    "import tensorflow as tf\n",
    "import tensorflow_hub as hub\n",
    "import tensorflow_datasets as tfds"
   ]
  },
  {
   "cell_type": "markdown",
   "id": "78a432a1-b7a7-4090-a073-af913ea82a0b",
   "metadata": {},
   "source": [
    "## Load QMNIST dataset and preprocess"
   ]
  },
  {
   "cell_type": "code",
   "execution_count": 2,
   "id": "d2765599-e5bb-4513-b39b-1d8dc6cd0994",
   "metadata": {},
   "outputs": [],
   "source": [
    "# Load QMNIST dataset\n",
    "qmnist_train, qmnist_test = tfds.load(\n",
    "    'mnist',\n",
    "    split=['train', 'test'],\n",
    "    shuffle_files=True,\n",
    "    as_supervised=True\n",
    ")\n"
   ]
  },
  {
   "cell_type": "code",
   "execution_count": 3,
   "id": "c51bb780-97ab-474c-827f-6e46619a75c8",
   "metadata": {},
   "outputs": [
    {
     "name": "stderr",
     "output_type": "stream",
     "text": [
      "2024-02-09 22:15:47.844907: I tensorflow/core/common_runtime/executor.cc:1197] [/device:CPU:0] (DEBUG INFO) Executor start aborting (this does not indicate an error and you can ignore this message): INVALID_ARGUMENT: You must feed a value for placeholder tensor 'Placeholder/_0' with dtype string and shape [1]\n",
      "\t [[{{node Placeholder/_0}}]]\n",
      "2024-02-09 22:15:47.845106: I tensorflow/core/common_runtime/executor.cc:1197] [/device:CPU:0] (DEBUG INFO) Executor start aborting (this does not indicate an error and you can ignore this message): INVALID_ARGUMENT: You must feed a value for placeholder tensor 'Placeholder/_4' with dtype int64 and shape [1]\n",
      "\t [[{{node Placeholder/_4}}]]\n",
      "2024-02-09 22:15:47.881036: W tensorflow/tsl/platform/profile_utils/cpu_utils.cc:128] Failed to get CPU frequency: 0 Hz\n",
      "2024-02-09 22:15:50.686608: I tensorflow/core/common_runtime/executor.cc:1197] [/device:CPU:0] (DEBUG INFO) Executor start aborting (this does not indicate an error and you can ignore this message): INVALID_ARGUMENT: You must feed a value for placeholder tensor 'Placeholder/_0' with dtype string and shape [1]\n",
      "\t [[{{node Placeholder/_0}}]]\n",
      "2024-02-09 22:15:50.686847: I tensorflow/core/common_runtime/executor.cc:1197] [/device:CPU:0] (DEBUG INFO) Executor start aborting (this does not indicate an error and you can ignore this message): INVALID_ARGUMENT: You must feed a value for placeholder tensor 'Placeholder/_2' with dtype string and shape [1]\n",
      "\t [[{{node Placeholder/_2}}]]\n"
     ]
    }
   ],
   "source": [
    "# Function to normalize images\n",
    "def normalize_img(image, label):\n",
    "    # Normalize pixel values to be between 0 and 1\n",
    "    return tf.cast(image, tf.float32) / 255.0, label\n",
    "\n",
    "# Apply normalization to the datasets\n",
    "qmnist_train = qmnist_train.map(normalize_img)\n",
    "qmnist_test = qmnist_test.map(normalize_img)\n",
    "\n",
    "# Extract numpy arrays from the dataset\n",
    "train_data = list(qmnist_train.as_numpy_iterator())\n",
    "test_data = list(qmnist_test.as_numpy_iterator())\n",
    "\n",
    "# Unpack data into images and labels\n",
    "train_images, train_labels = zip(*train_data)\n",
    "test_images, test_labels = zip(*test_data)\n",
    "\n",
    "# Convert tuples to numpy arrays\n",
    "train_images = np.array(train_images)\n",
    "train_labels = np.array(train_labels)\n",
    "test_images = np.array(test_images)\n",
    "test_labels = np.array(test_labels)"
   ]
  },
  {
   "cell_type": "markdown",
   "id": "3e48b43d-f102-4d9f-b465-e4432dd85a1d",
   "metadata": {},
   "source": [
    "# Explore the data"
   ]
  },
  {
   "cell_type": "code",
   "execution_count": 4,
   "id": "a0cef570-7095-4818-a165-aa9d9626f813",
   "metadata": {},
   "outputs": [
    {
     "data": {
      "image/png": "[encoded data removed]",
      "text/plain": [
       "<Figure size 640x480 with 2 Axes>"
      ]
     },
     "metadata": {},
     "output_type": "display_data"
    }
   ],
   "source": [
    "plt.figure()\n",
    "plt.imshow(train_images[0])\n",
    "plt.colorbar()\n",
    "plt.grid(False)\n",
    "plt.show()"
   ]
  },
  {
   "cell_type": "code",
   "execution_count": 5,
   "id": "3cc73c8e-1c24-4740-bcbb-dc550d8d1189",
   "metadata": {},
   "outputs": [
    {
     "name": "stdout",
     "output_type": "stream",
     "text": [
      "Epoch 1/10\n",
      "1875/1875 [==============================] - 1s 478us/step - loss: 0.2606 - accuracy: 0.9260\n",
      "Epoch 2/10\n",
      "1875/1875 [==============================] - 1s 460us/step - loss: 0.1142 - accuracy: 0.9661\n",
      "Epoch 3/10\n",
      "1875/1875 [==============================] - 1s 459us/step - loss: 0.0788 - accuracy: 0.9760\n",
      "Epoch 4/10\n",
      "1875/1875 [==============================] - 1s 455us/step - loss: 0.0594 - accuracy: 0.9823\n",
      "Epoch 5/10\n",
      "1875/1875 [==============================] - 1s 463us/step - loss: 0.0474 - accuracy: 0.9851\n",
      "Epoch 6/10\n",
      "1875/1875 [==============================] - 1s 475us/step - loss: 0.0375 - accuracy: 0.9883\n",
      "Epoch 7/10\n",
      "1875/1875 [==============================] - 1s 449us/step - loss: 0.0296 - accuracy: 0.9905\n",
      "Epoch 8/10\n",
      "1875/1875 [==============================] - 1s 450us/step - loss: 0.0240 - accuracy: 0.9922\n",
      "Epoch 9/10\n",
      "1875/1875 [==============================] - 1s 490us/step - loss: 0.0195 - accuracy: 0.9940\n",
      "Epoch 10/10\n",
      "1875/1875 [==============================] - 1s 453us/step - loss: 0.0170 - accuracy: 0.9945\n"
     ]
    },
    {
     "data": {
      "text/plain": [
       "<keras.callbacks.History at 0x280cd1c50>"
      ]
     },
     "execution_count": 5,
     "metadata": {},
     "output_type": "execute_result"
    }
   ],
   "source": [
    "model = tf.keras.Sequential([tf.keras.layers.Flatten(input_shape = (28, 28)), tf.keras.layers.Dense(128, activation='relu'), tf.keras.layers.Dense(10)])\n",
    "model.compile(optimizer = 'adam', loss = tf.keras.losses.SparseCategoricalCrossentropy(from_logits = True), metrics = ['accuracy'])\n",
    "model.fit(train_images, train_labels, epochs = 10)"
   ]
  },
  {
   "cell_type": "code",
   "execution_count": null,
   "id": "97e30110-ec80-4804-8537-2ca95ce2eea4",
   "metadata": {},
   "outputs": [],
   "source": []
  },
  {
   "cell_type": "code",
   "execution_count": 6,
   "id": "8e5f7f07-36d0-4279-be1a-0e673b34a811",
   "metadata": {},
   "outputs": [
    {
     "name": "stdout",
     "output_type": "stream",
     "text": [
      "313/313 - 0s - loss: 0.0863 - accuracy: 0.9778 - 137ms/epoch - 436us/step\n",
      "\n",
      "Test accuracy: 0.9778000116348267\n",
      "313/313 [==============================] - 0s 268us/step\n"
     ]
    }
   ],
   "source": [
    "# Convert Python tuples to NumPy arrays for test data\n",
    "test_images = np.array(test_images)\n",
    "test_labels = np.array(test_labels)\n",
    "\n",
    "# Evaluate the model on the test data\n",
    "test_loss, test_acc = model.evaluate(test_images, test_labels, verbose=2)\n",
    "\n",
    "print('\\nTest accuracy:', test_acc)\n",
    "probability_model = tf.keras.Sequential([model, tf.keras.layers.Softmax()])\n",
    "predictions = probability_model.predict(test_images)"
   ]
  },
  {
   "cell_type": "code",
   "execution_count": 7,
   "id": "9d2aab3f-e9de-4b70-9807-18facf8d8d05",
   "metadata": {},
   "outputs": [
    {
     "data": {
      "text/plain": [
       "2"
      ]
     },
     "execution_count": 7,
     "metadata": {},
     "output_type": "execute_result"
    }
   ],
   "source": [
    "predictions[0]\n",
    "np.argmax(predictions[0])"
   ]
  },
  {
   "cell_type": "code",
   "execution_count": 8,
   "id": "5ed8167c-b093-4734-8e34-0c46f00a82a8",
   "metadata": {},
   "outputs": [
    {
     "data": {
      "text/plain": [
       "2"
      ]
     },
     "execution_count": 8,
     "metadata": {},
     "output_type": "execute_result"
    }
   ],
   "source": [
    "test_labels[0]"
   ]
  },
  {
   "cell_type": "code",
   "execution_count": 9,
   "id": "4d90e4f2-ab8e-4fe3-9749-22e06df8f8b7",
   "metadata": {},
   "outputs": [],
   "source": [
    "def plot_image(i, predictions_array, true_label, img):\n",
    "  true_label, img = true_label[i], img[i]\n",
    "  plt.grid(False)\n",
    "  plt.xticks([])\n",
    "  plt.yticks([])\n",
    "\n",
    "  plt.imshow(img, cmap=plt.cm.binary)\n",
    "\n",
    "  predicted_label = np.argmax(predictions_array)\n",
    "  if predicted_label == true_label: color = 'blue'\n",
    "  else: color = 'red'\n",
    "\n",
    "  plt.xlabel(\"predicted: {}, actual:({})\".format(predicted_label, true_label), color = color)\n",
    "\n",
    "def plot_value_array(i, predictions_array, true_label):\n",
    "  true_label = true_label[i]\n",
    "  plt.grid(False)\n",
    "  plt.xticks(range(10))\n",
    "  plt.yticks([])\n",
    "  thisplot = plt.bar(range(10), predictions_array, color=\"#777777\")\n",
    "  plt.ylim([0, 1])\n",
    "  predicted_label = np.argmax(predictions_array)\n",
    "\n",
    "  thisplot[predicted_label].set_color('red')\n",
    "  thisplot[true_label].set_color('blue')"
   ]
  },
  {
   "cell_type": "code",
   "execution_count": 10,
   "id": "e0739eb6-0ac2-4b1d-81ca-099927345a33",
   "metadata": {},
   "outputs": [
    {
     "data": {
      "image/png": "[encoded data removed]",
      "text/plain": [
       "<Figure size 600x300 with 2 Axes>"
      ]
     },
     "metadata": {},
     "output_type": "display_data"
    }
   ],
   "source": [
    "i = 12\n",
    "plt.figure(figsize=(6,3))\n",
    "plt.subplot(1,2,1)\n",
    "plot_image(i, predictions[i], test_labels, test_images)\n",
    "plt.subplot(1,2,2)\n",
    "plot_value_array(i, predictions[i],  test_labels)\n",
    "plt.show()"
   ]
  },
  {
   "cell_type": "code",
   "execution_count": 11,
   "id": "1c61e8e6-67e9-4070-b7da-d0c32c122577",
   "metadata": {},
   "outputs": [
    {
     "data": {
      "image/png": "[encoded data removed]",
      "text/plain": [
       "<Figure size 1200x1000 with 30 Axes>"
      ]
     },
     "metadata": {},
     "output_type": "display_data"
    }
   ],
   "source": [
    "# Plot the first X test images, their predicted labels, and the true labels.\n",
    "# Color correct predictions in blue and incorrect predictions in red.\n",
    "num_rows = 5\n",
    "num_cols = 3\n",
    "num_images = num_rows*num_cols\n",
    "plt.figure(figsize=(2*2*num_cols, 2*num_rows))\n",
    "for i in range(num_images):\n",
    "  plt.subplot(num_rows, 2*num_cols, 2*i+1)\n",
    "  plot_image(i, predictions[i], test_labels, test_images)\n",
    "  plt.subplot(num_rows, 2*num_cols, 2*i+2)\n",
    "  plot_value_array(i, predictions[i], test_labels)\n",
    "plt.tight_layout()\n",
    "plt.show()"
   ]
  },
  {
   "cell_type": "code",
   "execution_count": 12,
   "id": "0acc1951-4202-419f-af55-c35f733a1023",
   "metadata": {},
   "outputs": [
    {
     "name": "stdout",
     "output_type": "stream",
     "text": [
      "(28, 28, 1)\n",
      "(1, 28, 28, 1)\n"
     ]
    }
   ],
   "source": [
    "# Grab an image from the test dataset.\n",
    "img = test_images[1]\n",
    "\n",
    "print(img.shape)\n",
    "# Add the image to a batch where it's the only member.\n",
    "img = (np.expand_dims(img,0))\n",
    "\n",
    "print(img.shape)"
   ]
  },
  {
   "cell_type": "code",
   "execution_count": 13,
   "id": "131088f5-bd36-4c84-b48e-88578076b5e7",
   "metadata": {},
   "outputs": [
    {
     "name": "stdout",
     "output_type": "stream",
     "text": [
      "1/1 [==============================] - 0s 9ms/step\n",
      "[[1.0000000e+00 3.9668362e-28 8.0221624e-20 5.3277171e-25 5.9298086e-21\n",
      "  3.6405013e-16 2.8987697e-09 4.3621679e-11 2.6686595e-20 2.9215930e-21]]\n"
     ]
    }
   ],
   "source": [
    "predictions_single = probability_model.predict(img)\n",
    "\n",
    "print(predictions_single)"
   ]
  },
  {
   "cell_type": "code",
   "execution_count": 14,
   "id": "24eddaee-34d9-4fc6-9964-66e3cf54a544",
   "metadata": {},
   "outputs": [
    {
     "data": {
      "image/png": "[encoded data removed]",
      "text/plain": [
       "<Figure size 640x480 with 1 Axes>"
      ]
     },
     "metadata": {},
     "output_type": "display_data"
    }
   ],
   "source": [
    "plot_value_array(1, predictions_single[0], test_labels)\n",
    "_ = plt.xticks(range(10), rotation=45)\n",
    "plt.show()"
   ]
  },
  {
   "cell_type": "code",
   "execution_count": 15,
   "id": "5025e81c-a313-4cdc-acbc-81f78a01705b",
   "metadata": {},
   "outputs": [
    {
     "data": {
      "text/plain": [
       "0"
      ]
     },
     "execution_count": 15,
     "metadata": {},
     "output_type": "execute_result"
    }
   ],
   "source": [
    "np.argmax(predictions_single[0])"
   ]
  },
  {
   "cell_type": "code",
   "execution_count": 16,
   "id": "744fd8d0-542a-420a-9527-cf3d6e0557af",
   "metadata": {},
   "outputs": [
    {
     "name": "stdout",
     "output_type": "stream",
     "text": [
      "The model predicts a label as expected !\n"
     ]
    }
   ],
   "source": [
    "print(\"The model predicts a label as expected !\")"
   ]
  },
  {
   "cell_type": "markdown",
   "id": "c4b24e36-eee1-4476-b731-3b08abaf8edc",
   "metadata": {},
   "source": [
    "# Step 4. Modify the model by adding dense layer of 128 nodes"
   ]
  },
  {
   "cell_type": "code",
   "execution_count": 17,
   "id": "f583fb52-9a6c-4753-890a-157c73d12067",
   "metadata": {},
   "outputs": [],
   "source": [
    "# Modify the model by adding another Dense layer of 128 nodes\n",
    "model2 = tf.keras.Sequential([\n",
    "    tf.keras.layers.Flatten(input_shape=(28, 28)),\n",
    "    tf.keras.layers.Dense(128, activation='relu'),\n",
    "    tf.keras.layers.Dense(128, activation='relu'),  # Additional Dense layer\n",
    "    tf.keras.layers.Dense(10)\n",
    "])\n"
   ]
  },
  {
   "cell_type": "markdown",
   "id": "138dd81f-760e-4028-9a01-af3eb63c7dae",
   "metadata": {},
   "source": [
    "# Step 5. Modify the model based on chosen method and train"
   ]
  },
  {
   "cell_type": "code",
   "execution_count": 18,
   "id": "d74c168a-7491-411e-b880-0b05c2ae3e21",
   "metadata": {},
   "outputs": [
    {
     "name": "stdout",
     "output_type": "stream",
     "text": [
      "Epoch 1/10\n",
      "1875/1875 [==============================] - 1s 579us/step - loss: 0.2372 - accuracy: 0.9300\n",
      "Epoch 2/10\n",
      "1875/1875 [==============================] - 1s 558us/step - loss: 0.0972 - accuracy: 0.9704\n",
      "Epoch 3/10\n",
      "1875/1875 [==============================] - 1s 561us/step - loss: 0.0665 - accuracy: 0.9795\n",
      "Epoch 4/10\n",
      "1875/1875 [==============================] - 1s 559us/step - loss: 0.0517 - accuracy: 0.9841\n",
      "Epoch 5/10\n",
      "1875/1875 [==============================] - 1s 624us/step - loss: 0.0400 - accuracy: 0.9869\n",
      "Epoch 6/10\n",
      "1875/1875 [==============================] - 1s 567us/step - loss: 0.0333 - accuracy: 0.9887\n",
      "Epoch 7/10\n",
      "1875/1875 [==============================] - 1s 564us/step - loss: 0.0265 - accuracy: 0.9914\n",
      "Epoch 8/10\n",
      "1875/1875 [==============================] - 1s 561us/step - loss: 0.0230 - accuracy: 0.9921\n",
      "Epoch 9/10\n",
      "1875/1875 [==============================] - 1s 561us/step - loss: 0.0206 - accuracy: 0.9929\n",
      "Epoch 10/10\n",
      "1875/1875 [==============================] - 1s 560us/step - loss: 0.0188 - accuracy: 0.9937\n"
     ]
    },
    {
     "data": {
      "text/plain": [
       "<keras.callbacks.History at 0x299e31190>"
      ]
     },
     "execution_count": 18,
     "metadata": {},
     "output_type": "execute_result"
    }
   ],
   "source": [
    "\n",
    "# Compile and fit the modified model\n",
    "model2.compile(optimizer='adam', loss=tf.keras.losses.SparseCategoricalCrossentropy(from_logits=True), metrics=['accuracy'])\n",
    "model2.fit(train_images, train_labels, epochs=10)\n"
   ]
  },
  {
   "cell_type": "markdown",
   "id": "a6be68f5-387f-43ab-b483-d39da81be2db",
   "metadata": {},
   "source": [
    "# Step 6. Report on the results of the modified model and if it matches your hypothesis"
   ]
  },
  {
   "cell_type": "markdown",
   "id": "34fc16f4-00b5-40fe-b0b4-59a343d7b288",
   "metadata": {},
   "source": [
    "### Hypothesis: There will be increased performance by adding dense layer."
   ]
  },
  {
   "cell_type": "code",
   "execution_count": 19,
   "id": "e70938b7-2d5a-41ba-b6f2-c40af125baab",
   "metadata": {},
   "outputs": [
    {
     "name": "stdout",
     "output_type": "stream",
     "text": [
      "313/313 - 0s - loss: 0.0834 - accuracy: 0.9816 - 139ms/epoch - 444us/step\n",
      "\n",
      "Test accuracy: 0.9815999865531921\n"
     ]
    }
   ],
   "source": [
    "\n",
    "# Evaluate the modified model\n",
    "test_loss, test_acc = model2.evaluate(test_images, test_labels, verbose=2)\n",
    "print('\\nTest accuracy:', test_acc)"
   ]
  },
  {
   "cell_type": "code",
   "execution_count": 20,
   "id": "55cc21bb-c168-4374-90f3-51e14afec627",
   "metadata": {},
   "outputs": [
    {
     "name": "stdout",
     "output_type": "stream",
     "text": [
      "Test Accuracy Improved by adding dense layer of 128!\n"
     ]
    }
   ],
   "source": [
    "print(\"Test Accuracy Improved by adding dense layer of 128!\")"
   ]
  },
  {
   "cell_type": "markdown",
   "id": "c9b40a43-e9c2-47fd-878c-35cebc8bae63",
   "metadata": {},
   "source": [
    "# Step 7. Experiment with different optimizers, loss functions, dropout, and activation functions, and observe the change in performance as you tune these hyperparameters."
   ]
  },
  {
   "cell_type": "code",
   "execution_count": 21,
   "id": "38f62893-cf7b-458e-8a9a-20b4f4709f67",
   "metadata": {},
   "outputs": [
    {
     "name": "stdout",
     "output_type": "stream",
     "text": [
      "\n",
      "Training Model 1\n",
      "Epoch 1/10\n",
      "1875/1875 [==============================] - 1s 497us/step - loss: 0.2906 - accuracy: 0.9151\n",
      "Epoch 2/10\n",
      "1875/1875 [==============================] - 1s 509us/step - loss: 0.1418 - accuracy: 0.9575\n",
      "Epoch 3/10\n",
      "1875/1875 [==============================] - 1s 533us/step - loss: 0.1092 - accuracy: 0.9669\n",
      "Epoch 4/10\n",
      "1875/1875 [==============================] - 1s 478us/step - loss: 0.0873 - accuracy: 0.9727\n",
      "Epoch 5/10\n",
      "1875/1875 [==============================] - 1s 476us/step - loss: 0.0758 - accuracy: 0.9766\n",
      "Epoch 6/10\n",
      "1875/1875 [==============================] - 1s 476us/step - loss: 0.0659 - accuracy: 0.9783\n",
      "Epoch 7/10\n",
      "1875/1875 [==============================] - 1s 480us/step - loss: 0.0597 - accuracy: 0.9809\n",
      "Epoch 8/10\n",
      "1875/1875 [==============================] - 1s 478us/step - loss: 0.0537 - accuracy: 0.9819\n",
      "Epoch 9/10\n",
      "1875/1875 [==============================] - 1s 485us/step - loss: 0.0497 - accuracy: 0.9837\n",
      "Epoch 10/10\n",
      "1875/1875 [==============================] - 1s 504us/step - loss: 0.0445 - accuracy: 0.9851\n",
      "313/313 - 0s - loss: 0.0712 - accuracy: 0.9804 - 127ms/epoch - 406us/step\n",
      "Model 1 Test Accuracy: 0.980400025844574\n",
      "\n",
      "Training Model 2\n",
      "Epoch 1/10\n",
      "1875/1875 [==============================] - 1s 501us/step - loss: 0.5562 - accuracy: 0.8380\n",
      "Epoch 2/10\n",
      "1875/1875 [==============================] - 1s 512us/step - loss: 0.2999 - accuracy: 0.9141\n",
      "Epoch 3/10\n",
      "1875/1875 [==============================] - 1s 493us/step - loss: 0.2445 - accuracy: 0.9288\n",
      "Epoch 4/10\n",
      "1875/1875 [==============================] - 1s 500us/step - loss: 0.2083 - accuracy: 0.9400\n",
      "Epoch 5/10\n",
      "1875/1875 [==============================] - 1s 502us/step - loss: 0.1898 - accuracy: 0.9434\n",
      "Epoch 6/10\n",
      "1875/1875 [==============================] - 1s 501us/step - loss: 0.1711 - accuracy: 0.9497\n",
      "Epoch 7/10\n",
      "1875/1875 [==============================] - 1s 505us/step - loss: 0.1604 - accuracy: 0.9523\n",
      "Epoch 8/10\n",
      "1875/1875 [==============================] - 1s 496us/step - loss: 0.1495 - accuracy: 0.9560\n",
      "Epoch 9/10\n",
      "1875/1875 [==============================] - 1s 500us/step - loss: 0.1409 - accuracy: 0.9566\n",
      "Epoch 10/10\n",
      "1875/1875 [==============================] - 1s 552us/step - loss: 0.1338 - accuracy: 0.9602\n",
      "313/313 - 0s - loss: 0.0970 - accuracy: 0.9716 - 128ms/epoch - 410us/step\n",
      "Model 2 Test Accuracy: 0.9715999960899353\n",
      "\n",
      "Training Model 3\n",
      "Epoch 1/10\n",
      "1875/1875 [==============================] - 1s 615us/step - loss: 0.4144 - accuracy: 0.8813\n",
      "Epoch 2/10\n",
      "1875/1875 [==============================] - 1s 613us/step - loss: 0.2175 - accuracy: 0.9359\n",
      "Epoch 3/10\n",
      "1875/1875 [==============================] - 1s 623us/step - loss: 0.1584 - accuracy: 0.9533\n",
      "Epoch 4/10\n",
      "1875/1875 [==============================] - 1s 624us/step - loss: 0.1229 - accuracy: 0.9631\n",
      "Epoch 5/10\n",
      "1875/1875 [==============================] - 1s 567us/step - loss: 0.1030 - accuracy: 0.9690\n",
      "Epoch 6/10\n",
      "1875/1875 [==============================] - 1s 573us/step - loss: 0.0849 - accuracy: 0.9744\n",
      "Epoch 7/10\n",
      "1875/1875 [==============================] - 1s 575us/step - loss: 0.0747 - accuracy: 0.9773\n",
      "Epoch 8/10\n",
      "1875/1875 [==============================] - 1s 652us/step - loss: 0.0673 - accuracy: 0.9786\n",
      "Epoch 9/10\n",
      "1875/1875 [==============================] - 1s 562us/step - loss: 0.0591 - accuracy: 0.9818\n",
      "Epoch 10/10\n",
      "1875/1875 [==============================] - 1s 574us/step - loss: 0.0539 - accuracy: 0.9830\n",
      "313/313 - 0s - loss: 0.0672 - accuracy: 0.9787 - 133ms/epoch - 426us/step\n",
      "Model 3 Test Accuracy: 0.9786999821662903\n",
      "\n",
      "Training Model 4\n",
      "Epoch 1/10\n",
      "1875/1875 [==============================] - 1s 457us/step - loss: 0.3885 - accuracy: 0.8850\n",
      "Epoch 2/10\n",
      "1875/1875 [==============================] - 1s 460us/step - loss: 0.2202 - accuracy: 0.9355\n",
      "Epoch 3/10\n",
      "1875/1875 [==============================] - 1s 461us/step - loss: 0.1855 - accuracy: 0.9444\n",
      "Epoch 4/10\n",
      "1875/1875 [==============================] - 1s 462us/step - loss: 0.1636 - accuracy: 0.9501\n",
      "Epoch 5/10\n",
      "1875/1875 [==============================] - 1s 467us/step - loss: 0.1530 - accuracy: 0.9527\n",
      "Epoch 6/10\n",
      "1875/1875 [==============================] - 1s 456us/step - loss: 0.1401 - accuracy: 0.9574\n",
      "Epoch 7/10\n",
      "1875/1875 [==============================] - 1s 470us/step - loss: 0.1336 - accuracy: 0.9587\n",
      "Epoch 8/10\n",
      "1875/1875 [==============================] - 1s 460us/step - loss: 0.1246 - accuracy: 0.9611\n",
      "Epoch 9/10\n",
      "1875/1875 [==============================] - 1s 454us/step - loss: 0.1201 - accuracy: 0.9622\n",
      "Epoch 10/10\n",
      "1875/1875 [==============================] - 1s 454us/step - loss: 0.1196 - accuracy: 0.9627\n",
      "313/313 - 0s - loss: 0.0817 - accuracy: 0.9775 - 115ms/epoch - 366us/step\n",
      "Model 4 Test Accuracy: 0.9775000214576721\n",
      "\n",
      "Training Model 5\n",
      "Epoch 1/10\n",
      "1875/1875 [==============================] - 1s 552us/step - loss: 0.2965 - accuracy: 0.9093\n",
      "Epoch 2/10\n",
      "1875/1875 [==============================] - 1s 554us/step - loss: 0.1453 - accuracy: 0.9559\n",
      "Epoch 3/10\n",
      "1875/1875 [==============================] - 1s 567us/step - loss: 0.1144 - accuracy: 0.9649\n",
      "Epoch 4/10\n",
      "1875/1875 [==============================] - 1s 555us/step - loss: 0.0970 - accuracy: 0.9700\n",
      "Epoch 5/10\n",
      "1875/1875 [==============================] - 1s 553us/step - loss: 0.0832 - accuracy: 0.9742\n",
      "Epoch 6/10\n",
      "1875/1875 [==============================] - 1s 547us/step - loss: 0.0782 - accuracy: 0.9758\n",
      "Epoch 7/10\n",
      "1875/1875 [==============================] - 1s 552us/step - loss: 0.0706 - accuracy: 0.9778\n",
      "Epoch 8/10\n",
      "1875/1875 [==============================] - 1s 532us/step - loss: 0.0647 - accuracy: 0.9789\n",
      "Epoch 9/10\n",
      "1875/1875 [==============================] - 1s 538us/step - loss: 0.0613 - accuracy: 0.9805\n",
      "Epoch 10/10\n",
      "1875/1875 [==============================] - 1s 534us/step - loss: 0.0544 - accuracy: 0.9819\n",
      "313/313 - 0s - loss: 0.0746 - accuracy: 0.9801 - 127ms/epoch - 407us/step\n",
      "Model 5 Test Accuracy: 0.9800999760627747\n"
     ]
    }
   ],
   "source": [
    "# Experiment with different hyperparameters\n",
    "models = []\n",
    "\n",
    "# Model 1 (add drop out and dense layer)\n",
    "model_1 = tf.keras.Sequential([\n",
    "    tf.keras.layers.Flatten(input_shape=(28, 28)),\n",
    "    tf.keras.layers.Dense(128, activation='relu'),\n",
    "    tf.keras.layers.Dropout(0.2),\n",
    "    tf.keras.layers.Dense(10)\n",
    "])\n",
    "models.append((\"Model 1\", model_1))\n",
    "\n",
    "# Model 2 (change activation function)\n",
    "model_2 = tf.keras.Sequential([\n",
    "    tf.keras.layers.Flatten(input_shape=(28, 28)),\n",
    "    tf.keras.layers.Dense(128, activation='sigmoid'),\n",
    "    tf.keras.layers.Dropout(0.5),\n",
    "    tf.keras.layers.Dense(10)\n",
    "])\n",
    "models.append((\"Model 2\", model_2))\n",
    "\n",
    "# Model 3 (increase number of nodes)\n",
    "model_3 = tf.keras.Sequential([\n",
    "    tf.keras.layers.Flatten(input_shape=(28, 28)),\n",
    "    tf.keras.layers.Dense(256, activation='sigmoid'),\n",
    "    tf.keras.layers.Dropout(0.3),\n",
    "    tf.keras.layers.Dense(10)\n",
    "])\n",
    "models.append((\"Model 3\", model_3))\n",
    "\n",
    "# Model 4 (increase drop out rate)\n",
    "model_4 = tf.keras.Sequential([\n",
    "    tf.keras.layers.Flatten(input_shape=(28, 28)),\n",
    "    tf.keras.layers.Dense(128, activation='relu'),\n",
    "    tf.keras.layers.Dropout(0.5),\n",
    "    tf.keras.layers.Dense(10)\n",
    "])\n",
    "models.append((\"Model 4\", model_4))\n",
    "\n",
    "# Model 5 (increase dense layer)\n",
    "model_5 = tf.keras.Sequential([\n",
    "    tf.keras.layers.Flatten(input_shape=(28, 28)),\n",
    "    tf.keras.layers.Dense(128, activation='relu'),\n",
    "    tf.keras.layers.Dropout(0.2),\n",
    "    tf.keras.layers.Dense(128, activation='relu'),\n",
    "    tf.keras.layers.Dropout(0.2),\n",
    "    tf.keras.layers.Dense(10)\n",
    "])\n",
    "models.append((\"Model 5\", model_5))\n",
    "\n",
    "# Train and evaluate each model\n",
    "for model_name, model in models:\n",
    "    print(f\"\\nTraining {model_name}\")\n",
    "    model.compile(optimizer='adam', loss=tf.keras.losses.SparseCategoricalCrossentropy(from_logits=True), metrics=['accuracy'])\n",
    "    model.fit(train_images, train_labels, epochs=10)\n",
    "\n",
    "    # Evaluate the model\n",
    "    test_loss, test_acc = model.evaluate(test_images, test_labels, verbose=2)\n",
    "    print(f'{model_name} Test Accuracy:', test_acc)"
   ]
  },
  {
   "cell_type": "markdown",
   "id": "1188ccd9-fbf7-4f3e-bfb4-a93b7bb4f80a",
   "metadata": {},
   "source": [
    "### Model 1(add drop out and dense layer): This model achieved a high test accuracy, suggesting that the initial modifications made to it have led to effective learning.\n",
    "\n",
    "### Model 2 (change activation function): Model 2 has a slightly lower test accuracy compared to other models. This indicate that the specific modifications or hyperparameters used in this model are not as effective as others.\n",
    "\n",
    "### Model 3 (increase number of nodes): Similar to the first set of observations, Model 3 (with additional Dense layer or increased nodes) performs well, showing a competitive accuracy.\n",
    "\n",
    "### Model 4 (increase drop out rate): This model has a good test accuracy, although slightly lower than Model 1 and Model 3. It's important to analyze the modifications made to understand their impact.\n",
    "\n",
    "### Model 5 (increase dense layer): Model 5 performs well, but the test accuracy is similar to Model 3 and slightly lower than Model 1. "
   ]
  },
  {
   "cell_type": "code",
   "execution_count": null,
   "id": "d23218de-9e13-46d2-9ac5-f8e5b28f3cf6",
   "metadata": {},
   "outputs": [],
   "source": []
  },
  {
   "cell_type": "code",
   "execution_count": null,
   "id": "9684e21d-e81f-4d98-b6c4-76bbb69a0e53",
   "metadata": {},
   "outputs": [],
   "source": []
  }
 ],
 "metadata": {
  "kernelspec": {
   "display_name": "Python 3 (ipykernel)",
   "language": "python",
   "name": "python3"
  },
  "language_info": {
   "codemirror_mode": {
    "name": "ipython",
    "version": 3
   },
   "file_extension": ".py",
   "mimetype": "text/x-python",
   "name": "python",
   "nbconvert_exporter": "python",
   "pygments_lexer": "ipython3",
   "version": "3.11.5"
  }
 },
 "nbformat": 4,
 "nbformat_minor": 5
}
